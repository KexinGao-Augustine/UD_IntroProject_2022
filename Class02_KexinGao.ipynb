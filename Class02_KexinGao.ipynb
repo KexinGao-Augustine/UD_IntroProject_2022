{
  "cells": [
    {
      "cell_type": "markdown",
      "metadata": {
        "id": "view-in-github",
        "colab_type": "text"
      },
      "source": [
        "<a href=\"https://colab.research.google.com/github/KexinGao-Augustine/UD_IntroProject_2022/blob/main/Class02_KexinGao.ipynb\" target=\"_parent\"><img src=\"https://colab.research.google.com/assets/colab-badge.svg\" alt=\"Open In Colab\"/></a>"
      ]
    },
    {
      "cell_type": "markdown",
      "metadata": {
        "id": "PUWUCF_cmZtn"
      },
      "source": [
        "# **Lambda calculus**\n",
        "\n",
        "**Exercise 1**\n",
        "\n",
        "Define a function with at least 1 parameter that returns a lambda expression with also at least 1 parameter and uses the argument of the function. Show, with a few examples, what the function does for different inputs for the function (and the lambda expression)."
      ]
    },
    {
      "cell_type": "code",
      "execution_count": null,
      "metadata": {
        "id": "4y5pXtWnkmpp"
      },
      "outputs": [],
      "source": [
        "def func(x):\n",
        "  return lambda a : a * x"
      ]
    },
    {
      "cell_type": "code",
      "execution_count": null,
      "metadata": {
        "colab": {
          "base_uri": "https://localhost:8080/"
        },
        "id": "1yH6iKfOmaX-",
        "outputId": "36e54f8f-27b1-4c30-892b-f2b1cadfe381"
      },
      "outputs": [
        {
          "name": "stdout",
          "output_type": "stream",
          "text": [
            "10\n"
          ]
        }
      ],
      "source": [
        "doubler = func(2)\n",
        "print(doubler(5))"
      ]
    },
    {
      "cell_type": "code",
      "execution_count": null,
      "metadata": {
        "id": "AuG9ZHPjny4H"
      },
      "outputs": [],
      "source": [
        "def F(x,y,z):\n",
        "  return lambda a,b,c : a*x+b*y+c*z"
      ]
    },
    {
      "cell_type": "code",
      "execution_count": null,
      "metadata": {
        "colab": {
          "base_uri": "https://localhost:8080/"
        },
        "id": "37ploRnzoZiF",
        "outputId": "22d28936-13bd-4694-c3e7-674ac45b4c61"
      },
      "outputs": [
        {
          "name": "stdout",
          "output_type": "stream",
          "text": [
            "10\n"
          ]
        }
      ],
      "source": [
        "cal = F(2,3,2)\n",
        "print(cal(1,2,1))"
      ]
    },
    {
      "cell_type": "markdown",
      "metadata": {
        "id": "aZ_YMNkupwLK"
      },
      "source": [
        "**Exercise 2**\n",
        "\n",
        "Use lambda expressions and the above-mentioned functions to manipulate the data (a list of dictionaries) below as follows:\n",
        "\n",
        "sort the data by country\n",
        "\n",
        "return a filtered list that has only those entries whose 'name' starts with an A or a B\n",
        "\n",
        "return a filtered list that has only those entries whose 'number' is not divisible by 2 or 3\n",
        "\n",
        "return a list with the same values as the original, except that each 'number' entry has been doubled"
      ]
    },
    {
      "cell_type": "code",
      "execution_count": null,
      "metadata": {
        "id": "spahGZqupI6Y"
      },
      "outputs": [],
      "source": [
        "data = [{'country': \"Ukraine\",'number': \"3\",'name': \"Derek Bolton\"},{'country': \"United States\",'number': \"3\",'name': \"Britanney Durham\"},{'country': \"China\",'number': \"7\",'name': \"Rachel Dickson\"},\n",
        "        {'country': \"India\",'number': \"4\",'name': \"Oren Dominguez\"},{'country': \"Norway\",'number': \"5\",'name': \"Keane Dean\"},{'country': \"New Zealand\",'number': \"8\",'name': \"Tarik Coleman\"},\n",
        "        {'country': \"South Africa\",'number': \"3\",'name': \"Uriel Greene\"},{'country': \"China\",'number': \"6\",'name': \"Minerva Shields\"},{'country': \"Norway\",'number': \"7\",'name': \"Robin Butler\"},\n",
        "        {'country': \"Germany\",'number': \"7\",'name': \"Stacey Nixon\"},{'country': \"South Africa\",'number': \"4\",'name': \"Glenna Clark\"},{'country': \"Australia\",'number': \"7\",'name': \"Adena Smith\"},\n",
        "        {'country': \"Italy\",'number': \"2\",'name': \"Ronan Ellis\"},{'country': \"Chile\",'number': \"1\",'name': \"Ignatius Guy\"},{'country': \"Belgium\",'number': \"8\",'name': \"Barclay Lindsey\"},\n",
        "        {'country': \"Peru\",'number': \"2\",'name': \"Fuller Burris\"},{'country': \"Ukraine\",'number': \"2\",'name': \"Kylan Witt\"},{'country': \"United States\",'number': \"1\",'name': \"Kitra Willis\"},\n",
        "        {'country': \"Austria\",'number': \"6\",'name': \"Indigo Dillard\"},{'country': \"Chile\",'number': \"3\",'name': \"Benedict Powell\"},{'country': \"Russian Federation\",'number': \"9\",'name': \"Duncan Ware\"},\n",
        "        {'country': \"Peru\",'number': \"7\",'name': \"Abra Lewis\"},{'country': \"China\",'number': \"5\",'name': \"Callie Cole\"},{'country': \"United States\",'number': \"0\",'name': \"Cedric Gates\"},\n",
        "        {'country': \"Ukraine\",'number': \"7\",'name': \"Malcolm Cox\"},{'country': \"Brazil\",'number': \"6\",'name': \"Connor Potts\"},{'country': \"Sweden\",'number': \"7\",'name': \"Lyle Nguyen\"},\n",
        "        {'country': \"United States\",'number': \"3\",'name': \"Rudyard Barrett\"},{'country': \"Costa Rica\",'number': \"2\",'name': \"Judah Brock\"},{'country': \"South Korea\",'number': \"2\",'name': \"Lucius Snider\"},\n",
        "        {'country': \"China\",'number': \"1\",'name': \"Cassady Mcdaniel\"},{'country': \"Singapore\",'number': \"2\",'name': \"Allegra Baird\"},{'country': \"Philippines\",'number': \"4\",'name': \"Omar Burgess\"},\n",
        "        {'country': \"Turkey\",'number': \"7\",'name': \"Kenyon Rosa\"},{'country': \"Poland\",'number': \"6\",'name': \"Yen Sargent\"},{'country': \"China\",'number': \"3\",'name': \"Rashad Grimes\"},\n",
        "        {'country': \"Spain\",'number': \"7\",'name': \"Tamekah Gutierrez\"},{'country': \"Ukraine\",'number': \"3\",'name': \"Liberty Mathis\"},{'country': \"Mexico\",'number': \"3\",'name': \"Rylee Sharpe\"},\n",
        "        {'country': \"Mexico\",'number': \"3\",'name': \"Brynn Hinton\"},{'country': \"Sweden\",'number': \"2\",'name': \"Quinn Berg\"},{'country': \"Philippines\",'number': \"9\",'name': \"Simone Tanner\"},\n",
        "        {'country': \"Ireland\",'number': \"2\",'name': \"Simon Giles\"},{'country': \"United Kingdom\",'number': \"10\",'name': \"Zenia Coffey\"},{'country': \"Mexico\",'number': \"2\",'name': \"Yael Glass\"},\n",
        "        {'country': \"Colombia\",'number': \"5\",'name': \"Inga Russell\"},{'country': \"United Kingdom\",'number': \"1\",'name': \"Brendan Pearson\"},{'country': \"Austria\",'number': \"3\",'name': \"Shafira Parks\"},\n",
        "        {'country': \"India\",'number': \"9\",'name': \"Dante Charles\"},{'country': \"Sweden\",'number': \"8\",'name': \"Kylee Good\"},{'country': \"Canada\",'number': \"1\",'name': \"September Bryan\"},\n",
        "        {'country': \"Costa Rica\",'number': \"5\",'name': \"Hakeem Flowers\"},{'country': \"Peru\",'number': \"0\",'name': \"Ross Moss\"},{'country': \"Spain\",'number': \"8\",'name': \"Bo Hardy\"},\n",
        "        {'country': \"Austria\",'number': \"2\",'name': \"Davis Cardenas\"},{'country': \"Ireland\",'number': \"2\",'name': \"Lane Chandler\"},{'country': \"Ukraine\",'number': \"3\",'name': \"Mohammad Holder\"},\n",
        "        {'country': \"Vietnam\",'number': \"8\",'name': \"Jonas Bryan\"},{'country': \"Costa Rica\",'number': \"0\",'name': \"Eve Rivas\"},{'country': \"Australia\",'number': \"4\",'name': \"Elton Collins\"},\n",
        "        {'country': \"Norway\",'number': \"8\",'name': \"Cain Fields\"},{'country': \"Vietnam\",'number': \"0\",'name': \"Iliana Daniels\"},{'country': \"Mexico\",'number': \"7\",'name': \"Rajah Robles\"},\n",
        "        {'country': \"Australia\",'number': \"3\",'name': \"Charity Conner\"},{'country': \"Chile\",'number': \"5\",'name': \"Kay Parsons\"},{'country': \"Ireland\",'number': \"4\",'name': \"Rachel Howell\"},\n",
        "        {'country': \"Singapore\",'number': \"3\",'name': \"Walter Forbes\"},{'country': \"Colombia\",'number': \"1\",'name': \"Gray Hayden\"},{'country': \"Netherlands\",'number': \"9\",'name': \"Ivana Compton\"},\n",
        "        {'country': \"South Korea\",'number': \"8\",'name': \"Jamal Kelly\"},{'country': \"Pakistan\",'number': \"0\",'name': \"Robert Cunningham\"},{'country': \"Spain\",'number': \"4\",'name': \"Ignatius Newman\"},\n",
        "        {'country': \"Canada\",'number': \"8\",'name': \"Gisela Glenn\"},{'country': \"Vietnam\",'number': \"1\",'name': \"Eliana Nicholson\"},{'country': \"Ukraine\",'number': \"4\",'name': \"Christen James\"},\n",
        "        {'country': \"France\",'number': \"4\",'name': \"Devin Spears\"},{'country': \"Costa Rica\",'number': \"3\",'name': \"Phelan Hodges\"},{'country': \"Chile\",'number': \"4\",'name': \"Stewart Coffey\"},\n",
        "        {'country': \"Singapore\",'number': \"6\",'name': \"Kasper Justice\"},{'country': \"Italy\",'number': \"7\",'name': \"Xanthus Wilkerson\"},{'country': \"Italy\",'number': \"6\",'name': \"Debra Melendez\"},\n",
        "        {'country': \"Germany\",'number': \"6\",'name': \"Galvin Morrison\"},{'country': \"Norway\",'number': \"10\",'name': \"Britanney Daniels\"},{'country': \"Italy\",'number': \"8\",'name': \"Steel Cantu\"},\n",
        "        {'country': \"Mexico\",'number': \"7\",'name': \"Graham Ewing\"},{'country': \"China\",'number': \"3\",'name': \"Maia Dunn\"},{'country': \"Australia\",'number': \"3\",'name': \"Violet Thornton\"},\n",
        "        {'country': \"Canada\",'number': \"5\",'name': \"Cleo Cardenas\"},{'country': \"United States\",'number': \"8\",'name': \"Castor Bowen\"},{'country': \"Australia\",'number': \"8\",'name': \"Wyatt Carey\"},\n",
        "        {'country': \"Philippines\",'number': \"5\",'name': \"Paul Padilla\"},{'country': \"Costa Rica\",'number': \"8\",'name': \"Germane Welch\"},{'country': \"South Korea\",'number': \"4\",'name': \"Zephr Deleon\"},\n",
        "        {'country': \"Russian Federation\",'number': \"9\",'name': \"Lionel Armstrong\"},{'country': \"Brazil\",'number': \"6\",'name': \"Eleanor Solomon\"},{'country': \"Nigeria\",'number': \"7\",'name': \"Rachel Woods\"},\n",
        "        {'country': \"Indonesia\",'number': \"9\",'name': \"Philip Taylor\"},{'country': \"Brazil\",'number': \"7\",'name': \"Lilah Shelton\"},{'country': \"United Kingdom\",'number': \"3\",'name': \"Gillian Harrington\"},\n",
        "        {'country': \"Mexico\",'number': \"3\",'name': \"Odessa Sutton\"}]"
      ]
    },
    {
      "cell_type": "code",
      "execution_count": null,
      "metadata": {
        "colab": {
          "base_uri": "https://localhost:8080/"
        },
        "id": "mLHSOZRDNJnJ",
        "outputId": "313915a3-9831-4ca5-d775-866889bd9ad9"
      },
      "outputs": [
        {
          "output_type": "stream",
          "name": "stdout",
          "text": [
            "[{'country': 'Australia', 'number': '7', 'name': 'Adena Smith'}, {'country': 'Australia', 'number': '4', 'name': 'Elton Collins'}, {'country': 'Australia', 'number': '3', 'name': 'Charity Conner'}, {'country': 'Australia', 'number': '3', 'name': 'Violet Thornton'}, {'country': 'Australia', 'number': '8', 'name': 'Wyatt Carey'}, {'country': 'Austria', 'number': '6', 'name': 'Indigo Dillard'}, {'country': 'Austria', 'number': '3', 'name': 'Shafira Parks'}, {'country': 'Austria', 'number': '2', 'name': 'Davis Cardenas'}, {'country': 'Belgium', 'number': '8', 'name': 'Barclay Lindsey'}, {'country': 'Brazil', 'number': '6', 'name': 'Connor Potts'}, {'country': 'Brazil', 'number': '6', 'name': 'Eleanor Solomon'}, {'country': 'Brazil', 'number': '7', 'name': 'Lilah Shelton'}, {'country': 'Canada', 'number': '1', 'name': 'September Bryan'}, {'country': 'Canada', 'number': '8', 'name': 'Gisela Glenn'}, {'country': 'Canada', 'number': '5', 'name': 'Cleo Cardenas'}, {'country': 'Chile', 'number': '1', 'name': 'Ignatius Guy'}, {'country': 'Chile', 'number': '3', 'name': 'Benedict Powell'}, {'country': 'Chile', 'number': '5', 'name': 'Kay Parsons'}, {'country': 'Chile', 'number': '4', 'name': 'Stewart Coffey'}, {'country': 'China', 'number': '7', 'name': 'Rachel Dickson'}, {'country': 'China', 'number': '6', 'name': 'Minerva Shields'}, {'country': 'China', 'number': '5', 'name': 'Callie Cole'}, {'country': 'China', 'number': '1', 'name': 'Cassady Mcdaniel'}, {'country': 'China', 'number': '3', 'name': 'Rashad Grimes'}, {'country': 'China', 'number': '3', 'name': 'Maia Dunn'}, {'country': 'Colombia', 'number': '5', 'name': 'Inga Russell'}, {'country': 'Colombia', 'number': '1', 'name': 'Gray Hayden'}, {'country': 'Costa Rica', 'number': '2', 'name': 'Judah Brock'}, {'country': 'Costa Rica', 'number': '5', 'name': 'Hakeem Flowers'}, {'country': 'Costa Rica', 'number': '0', 'name': 'Eve Rivas'}, {'country': 'Costa Rica', 'number': '3', 'name': 'Phelan Hodges'}, {'country': 'Costa Rica', 'number': '8', 'name': 'Germane Welch'}, {'country': 'France', 'number': '4', 'name': 'Devin Spears'}, {'country': 'Germany', 'number': '7', 'name': 'Stacey Nixon'}, {'country': 'Germany', 'number': '6', 'name': 'Galvin Morrison'}, {'country': 'India', 'number': '4', 'name': 'Oren Dominguez'}, {'country': 'India', 'number': '9', 'name': 'Dante Charles'}, {'country': 'Indonesia', 'number': '9', 'name': 'Philip Taylor'}, {'country': 'Ireland', 'number': '2', 'name': 'Simon Giles'}, {'country': 'Ireland', 'number': '2', 'name': 'Lane Chandler'}, {'country': 'Ireland', 'number': '4', 'name': 'Rachel Howell'}, {'country': 'Italy', 'number': '2', 'name': 'Ronan Ellis'}, {'country': 'Italy', 'number': '7', 'name': 'Xanthus Wilkerson'}, {'country': 'Italy', 'number': '6', 'name': 'Debra Melendez'}, {'country': 'Italy', 'number': '8', 'name': 'Steel Cantu'}, {'country': 'Mexico', 'number': '3', 'name': 'Rylee Sharpe'}, {'country': 'Mexico', 'number': '3', 'name': 'Brynn Hinton'}, {'country': 'Mexico', 'number': '2', 'name': 'Yael Glass'}, {'country': 'Mexico', 'number': '7', 'name': 'Rajah Robles'}, {'country': 'Mexico', 'number': '7', 'name': 'Graham Ewing'}, {'country': 'Mexico', 'number': '3', 'name': 'Odessa Sutton'}, {'country': 'Netherlands', 'number': '9', 'name': 'Ivana Compton'}, {'country': 'New Zealand', 'number': '8', 'name': 'Tarik Coleman'}, {'country': 'Nigeria', 'number': '7', 'name': 'Rachel Woods'}, {'country': 'Norway', 'number': '5', 'name': 'Keane Dean'}, {'country': 'Norway', 'number': '7', 'name': 'Robin Butler'}, {'country': 'Norway', 'number': '8', 'name': 'Cain Fields'}, {'country': 'Norway', 'number': '10', 'name': 'Britanney Daniels'}, {'country': 'Pakistan', 'number': '0', 'name': 'Robert Cunningham'}, {'country': 'Peru', 'number': '2', 'name': 'Fuller Burris'}, {'country': 'Peru', 'number': '7', 'name': 'Abra Lewis'}, {'country': 'Peru', 'number': '0', 'name': 'Ross Moss'}, {'country': 'Philippines', 'number': '4', 'name': 'Omar Burgess'}, {'country': 'Philippines', 'number': '9', 'name': 'Simone Tanner'}, {'country': 'Philippines', 'number': '5', 'name': 'Paul Padilla'}, {'country': 'Poland', 'number': '6', 'name': 'Yen Sargent'}, {'country': 'Russian Federation', 'number': '9', 'name': 'Duncan Ware'}, {'country': 'Russian Federation', 'number': '9', 'name': 'Lionel Armstrong'}, {'country': 'Singapore', 'number': '2', 'name': 'Allegra Baird'}, {'country': 'Singapore', 'number': '3', 'name': 'Walter Forbes'}, {'country': 'Singapore', 'number': '6', 'name': 'Kasper Justice'}, {'country': 'South Africa', 'number': '3', 'name': 'Uriel Greene'}, {'country': 'South Africa', 'number': '4', 'name': 'Glenna Clark'}, {'country': 'South Korea', 'number': '2', 'name': 'Lucius Snider'}, {'country': 'South Korea', 'number': '8', 'name': 'Jamal Kelly'}, {'country': 'South Korea', 'number': '4', 'name': 'Zephr Deleon'}, {'country': 'Spain', 'number': '7', 'name': 'Tamekah Gutierrez'}, {'country': 'Spain', 'number': '8', 'name': 'Bo Hardy'}, {'country': 'Spain', 'number': '4', 'name': 'Ignatius Newman'}, {'country': 'Sweden', 'number': '7', 'name': 'Lyle Nguyen'}, {'country': 'Sweden', 'number': '2', 'name': 'Quinn Berg'}, {'country': 'Sweden', 'number': '8', 'name': 'Kylee Good'}, {'country': 'Turkey', 'number': '7', 'name': 'Kenyon Rosa'}, {'country': 'Ukraine', 'number': '3', 'name': 'Derek Bolton'}, {'country': 'Ukraine', 'number': '2', 'name': 'Kylan Witt'}, {'country': 'Ukraine', 'number': '7', 'name': 'Malcolm Cox'}, {'country': 'Ukraine', 'number': '3', 'name': 'Liberty Mathis'}, {'country': 'Ukraine', 'number': '3', 'name': 'Mohammad Holder'}, {'country': 'Ukraine', 'number': '4', 'name': 'Christen James'}, {'country': 'United Kingdom', 'number': '10', 'name': 'Zenia Coffey'}, {'country': 'United Kingdom', 'number': '1', 'name': 'Brendan Pearson'}, {'country': 'United Kingdom', 'number': '3', 'name': 'Gillian Harrington'}, {'country': 'United States', 'number': '3', 'name': 'Britanney Durham'}, {'country': 'United States', 'number': '1', 'name': 'Kitra Willis'}, {'country': 'United States', 'number': '0', 'name': 'Cedric Gates'}, {'country': 'United States', 'number': '3', 'name': 'Rudyard Barrett'}, {'country': 'United States', 'number': '8', 'name': 'Castor Bowen'}, {'country': 'Vietnam', 'number': '8', 'name': 'Jonas Bryan'}, {'country': 'Vietnam', 'number': '0', 'name': 'Iliana Daniels'}, {'country': 'Vietnam', 'number': '1', 'name': 'Eliana Nicholson'}]\n"
          ]
        }
      ],
      "source": [
        "data01 = sorted(data, key=lambda x: x ['country'])\n",
        "print(data01)"
      ]
    },
    {
      "cell_type": "code",
      "source": [
        "list(filter(lambda x: (x['name'][0]=='A') or (x['name'][0]=='B'), data))"
      ],
      "metadata": {
        "colab": {
          "base_uri": "https://localhost:8080/"
        },
        "id": "CjYN9v9znEJQ",
        "outputId": "5c3c4494-7ec8-406b-8cf5-9c0e1b1b479f"
      },
      "execution_count": null,
      "outputs": [
        {
          "output_type": "execute_result",
          "data": {
            "text/plain": [
              "[{'country': 'United States', 'number': '3', 'name': 'Britanney Durham'},\n",
              " {'country': 'Australia', 'number': '7', 'name': 'Adena Smith'},\n",
              " {'country': 'Belgium', 'number': '8', 'name': 'Barclay Lindsey'},\n",
              " {'country': 'Chile', 'number': '3', 'name': 'Benedict Powell'},\n",
              " {'country': 'Peru', 'number': '7', 'name': 'Abra Lewis'},\n",
              " {'country': 'Singapore', 'number': '2', 'name': 'Allegra Baird'},\n",
              " {'country': 'Mexico', 'number': '3', 'name': 'Brynn Hinton'},\n",
              " {'country': 'United Kingdom', 'number': '1', 'name': 'Brendan Pearson'},\n",
              " {'country': 'Spain', 'number': '8', 'name': 'Bo Hardy'},\n",
              " {'country': 'Norway', 'number': '10', 'name': 'Britanney Daniels'}]"
            ]
          },
          "metadata": {},
          "execution_count": 84
        }
      ]
    },
    {
      "cell_type": "code",
      "execution_count": null,
      "metadata": {
        "colab": {
          "base_uri": "https://localhost:8080/"
        },
        "id": "DTAwT23hQ7HP",
        "outputId": "af717d27-bdeb-4572-d048-de5575f4e4be"
      },
      "outputs": [
        {
          "output_type": "execute_result",
          "data": {
            "text/plain": [
              "[{'country': 'China', 'number': '7', 'name': 'Rachel Dickson'},\n",
              " {'country': 'Norway', 'number': '5', 'name': 'Keane Dean'},\n",
              " {'country': 'Norway', 'number': '7', 'name': 'Robin Butler'},\n",
              " {'country': 'Germany', 'number': '7', 'name': 'Stacey Nixon'},\n",
              " {'country': 'Australia', 'number': '7', 'name': 'Adena Smith'},\n",
              " {'country': 'Chile', 'number': '1', 'name': 'Ignatius Guy'},\n",
              " {'country': 'United States', 'number': '1', 'name': 'Kitra Willis'},\n",
              " {'country': 'Peru', 'number': '7', 'name': 'Abra Lewis'},\n",
              " {'country': 'China', 'number': '5', 'name': 'Callie Cole'},\n",
              " {'country': 'Ukraine', 'number': '7', 'name': 'Malcolm Cox'},\n",
              " {'country': 'Sweden', 'number': '7', 'name': 'Lyle Nguyen'},\n",
              " {'country': 'China', 'number': '1', 'name': 'Cassady Mcdaniel'},\n",
              " {'country': 'Turkey', 'number': '7', 'name': 'Kenyon Rosa'},\n",
              " {'country': 'Spain', 'number': '7', 'name': 'Tamekah Gutierrez'},\n",
              " {'country': 'Colombia', 'number': '5', 'name': 'Inga Russell'},\n",
              " {'country': 'United Kingdom', 'number': '1', 'name': 'Brendan Pearson'},\n",
              " {'country': 'Canada', 'number': '1', 'name': 'September Bryan'},\n",
              " {'country': 'Costa Rica', 'number': '5', 'name': 'Hakeem Flowers'},\n",
              " {'country': 'Mexico', 'number': '7', 'name': 'Rajah Robles'},\n",
              " {'country': 'Chile', 'number': '5', 'name': 'Kay Parsons'},\n",
              " {'country': 'Colombia', 'number': '1', 'name': 'Gray Hayden'},\n",
              " {'country': 'Vietnam', 'number': '1', 'name': 'Eliana Nicholson'},\n",
              " {'country': 'Italy', 'number': '7', 'name': 'Xanthus Wilkerson'},\n",
              " {'country': 'Mexico', 'number': '7', 'name': 'Graham Ewing'},\n",
              " {'country': 'Canada', 'number': '5', 'name': 'Cleo Cardenas'},\n",
              " {'country': 'Philippines', 'number': '5', 'name': 'Paul Padilla'},\n",
              " {'country': 'Nigeria', 'number': '7', 'name': 'Rachel Woods'},\n",
              " {'country': 'Brazil', 'number': '7', 'name': 'Lilah Shelton'}]"
            ]
          },
          "metadata": {},
          "execution_count": 76
        }
      ],
      "source": [
        "list(filter(lambda x: (int(x['number'])%2!=0 and int(x['number'])%3!=0), data))"
      ]
    },
    {
      "cell_type": "code",
      "source": [
        "list(map(lambda x: dict(x, **{'number':int(x['number'])*2}), data))"
      ],
      "metadata": {
        "colab": {
          "base_uri": "https://localhost:8080/"
        },
        "id": "dzSUjr_NoSdF",
        "outputId": "832aa159-4f2b-46a9-fc58-c2b5550ecda4"
      },
      "execution_count": null,
      "outputs": [
        {
          "output_type": "execute_result",
          "data": {
            "text/plain": [
              "[{'country': 'Ukraine', 'number': 6, 'name': 'Derek Bolton'},\n",
              " {'country': 'United States', 'number': 6, 'name': 'Britanney Durham'},\n",
              " {'country': 'China', 'number': 14, 'name': 'Rachel Dickson'},\n",
              " {'country': 'India', 'number': 8, 'name': 'Oren Dominguez'},\n",
              " {'country': 'Norway', 'number': 10, 'name': 'Keane Dean'},\n",
              " {'country': 'New Zealand', 'number': 16, 'name': 'Tarik Coleman'},\n",
              " {'country': 'South Africa', 'number': 6, 'name': 'Uriel Greene'},\n",
              " {'country': 'China', 'number': 12, 'name': 'Minerva Shields'},\n",
              " {'country': 'Norway', 'number': 14, 'name': 'Robin Butler'},\n",
              " {'country': 'Germany', 'number': 14, 'name': 'Stacey Nixon'},\n",
              " {'country': 'South Africa', 'number': 8, 'name': 'Glenna Clark'},\n",
              " {'country': 'Australia', 'number': 14, 'name': 'Adena Smith'},\n",
              " {'country': 'Italy', 'number': 4, 'name': 'Ronan Ellis'},\n",
              " {'country': 'Chile', 'number': 2, 'name': 'Ignatius Guy'},\n",
              " {'country': 'Belgium', 'number': 16, 'name': 'Barclay Lindsey'},\n",
              " {'country': 'Peru', 'number': 4, 'name': 'Fuller Burris'},\n",
              " {'country': 'Ukraine', 'number': 4, 'name': 'Kylan Witt'},\n",
              " {'country': 'United States', 'number': 2, 'name': 'Kitra Willis'},\n",
              " {'country': 'Austria', 'number': 12, 'name': 'Indigo Dillard'},\n",
              " {'country': 'Chile', 'number': 6, 'name': 'Benedict Powell'},\n",
              " {'country': 'Russian Federation', 'number': 18, 'name': 'Duncan Ware'},\n",
              " {'country': 'Peru', 'number': 14, 'name': 'Abra Lewis'},\n",
              " {'country': 'China', 'number': 10, 'name': 'Callie Cole'},\n",
              " {'country': 'United States', 'number': 0, 'name': 'Cedric Gates'},\n",
              " {'country': 'Ukraine', 'number': 14, 'name': 'Malcolm Cox'},\n",
              " {'country': 'Brazil', 'number': 12, 'name': 'Connor Potts'},\n",
              " {'country': 'Sweden', 'number': 14, 'name': 'Lyle Nguyen'},\n",
              " {'country': 'United States', 'number': 6, 'name': 'Rudyard Barrett'},\n",
              " {'country': 'Costa Rica', 'number': 4, 'name': 'Judah Brock'},\n",
              " {'country': 'South Korea', 'number': 4, 'name': 'Lucius Snider'},\n",
              " {'country': 'China', 'number': 2, 'name': 'Cassady Mcdaniel'},\n",
              " {'country': 'Singapore', 'number': 4, 'name': 'Allegra Baird'},\n",
              " {'country': 'Philippines', 'number': 8, 'name': 'Omar Burgess'},\n",
              " {'country': 'Turkey', 'number': 14, 'name': 'Kenyon Rosa'},\n",
              " {'country': 'Poland', 'number': 12, 'name': 'Yen Sargent'},\n",
              " {'country': 'China', 'number': 6, 'name': 'Rashad Grimes'},\n",
              " {'country': 'Spain', 'number': 14, 'name': 'Tamekah Gutierrez'},\n",
              " {'country': 'Ukraine', 'number': 6, 'name': 'Liberty Mathis'},\n",
              " {'country': 'Mexico', 'number': 6, 'name': 'Rylee Sharpe'},\n",
              " {'country': 'Mexico', 'number': 6, 'name': 'Brynn Hinton'},\n",
              " {'country': 'Sweden', 'number': 4, 'name': 'Quinn Berg'},\n",
              " {'country': 'Philippines', 'number': 18, 'name': 'Simone Tanner'},\n",
              " {'country': 'Ireland', 'number': 4, 'name': 'Simon Giles'},\n",
              " {'country': 'United Kingdom', 'number': 20, 'name': 'Zenia Coffey'},\n",
              " {'country': 'Mexico', 'number': 4, 'name': 'Yael Glass'},\n",
              " {'country': 'Colombia', 'number': 10, 'name': 'Inga Russell'},\n",
              " {'country': 'United Kingdom', 'number': 2, 'name': 'Brendan Pearson'},\n",
              " {'country': 'Austria', 'number': 6, 'name': 'Shafira Parks'},\n",
              " {'country': 'India', 'number': 18, 'name': 'Dante Charles'},\n",
              " {'country': 'Sweden', 'number': 16, 'name': 'Kylee Good'},\n",
              " {'country': 'Canada', 'number': 2, 'name': 'September Bryan'},\n",
              " {'country': 'Costa Rica', 'number': 10, 'name': 'Hakeem Flowers'},\n",
              " {'country': 'Peru', 'number': 0, 'name': 'Ross Moss'},\n",
              " {'country': 'Spain', 'number': 16, 'name': 'Bo Hardy'},\n",
              " {'country': 'Austria', 'number': 4, 'name': 'Davis Cardenas'},\n",
              " {'country': 'Ireland', 'number': 4, 'name': 'Lane Chandler'},\n",
              " {'country': 'Ukraine', 'number': 6, 'name': 'Mohammad Holder'},\n",
              " {'country': 'Vietnam', 'number': 16, 'name': 'Jonas Bryan'},\n",
              " {'country': 'Costa Rica', 'number': 0, 'name': 'Eve Rivas'},\n",
              " {'country': 'Australia', 'number': 8, 'name': 'Elton Collins'},\n",
              " {'country': 'Norway', 'number': 16, 'name': 'Cain Fields'},\n",
              " {'country': 'Vietnam', 'number': 0, 'name': 'Iliana Daniels'},\n",
              " {'country': 'Mexico', 'number': 14, 'name': 'Rajah Robles'},\n",
              " {'country': 'Australia', 'number': 6, 'name': 'Charity Conner'},\n",
              " {'country': 'Chile', 'number': 10, 'name': 'Kay Parsons'},\n",
              " {'country': 'Ireland', 'number': 8, 'name': 'Rachel Howell'},\n",
              " {'country': 'Singapore', 'number': 6, 'name': 'Walter Forbes'},\n",
              " {'country': 'Colombia', 'number': 2, 'name': 'Gray Hayden'},\n",
              " {'country': 'Netherlands', 'number': 18, 'name': 'Ivana Compton'},\n",
              " {'country': 'South Korea', 'number': 16, 'name': 'Jamal Kelly'},\n",
              " {'country': 'Pakistan', 'number': 0, 'name': 'Robert Cunningham'},\n",
              " {'country': 'Spain', 'number': 8, 'name': 'Ignatius Newman'},\n",
              " {'country': 'Canada', 'number': 16, 'name': 'Gisela Glenn'},\n",
              " {'country': 'Vietnam', 'number': 2, 'name': 'Eliana Nicholson'},\n",
              " {'country': 'Ukraine', 'number': 8, 'name': 'Christen James'},\n",
              " {'country': 'France', 'number': 8, 'name': 'Devin Spears'},\n",
              " {'country': 'Costa Rica', 'number': 6, 'name': 'Phelan Hodges'},\n",
              " {'country': 'Chile', 'number': 8, 'name': 'Stewart Coffey'},\n",
              " {'country': 'Singapore', 'number': 12, 'name': 'Kasper Justice'},\n",
              " {'country': 'Italy', 'number': 14, 'name': 'Xanthus Wilkerson'},\n",
              " {'country': 'Italy', 'number': 12, 'name': 'Debra Melendez'},\n",
              " {'country': 'Germany', 'number': 12, 'name': 'Galvin Morrison'},\n",
              " {'country': 'Norway', 'number': 20, 'name': 'Britanney Daniels'},\n",
              " {'country': 'Italy', 'number': 16, 'name': 'Steel Cantu'},\n",
              " {'country': 'Mexico', 'number': 14, 'name': 'Graham Ewing'},\n",
              " {'country': 'China', 'number': 6, 'name': 'Maia Dunn'},\n",
              " {'country': 'Australia', 'number': 6, 'name': 'Violet Thornton'},\n",
              " {'country': 'Canada', 'number': 10, 'name': 'Cleo Cardenas'},\n",
              " {'country': 'United States', 'number': 16, 'name': 'Castor Bowen'},\n",
              " {'country': 'Australia', 'number': 16, 'name': 'Wyatt Carey'},\n",
              " {'country': 'Philippines', 'number': 10, 'name': 'Paul Padilla'},\n",
              " {'country': 'Costa Rica', 'number': 16, 'name': 'Germane Welch'},\n",
              " {'country': 'South Korea', 'number': 8, 'name': 'Zephr Deleon'},\n",
              " {'country': 'Russian Federation', 'number': 18, 'name': 'Lionel Armstrong'},\n",
              " {'country': 'Brazil', 'number': 12, 'name': 'Eleanor Solomon'},\n",
              " {'country': 'Nigeria', 'number': 14, 'name': 'Rachel Woods'},\n",
              " {'country': 'Indonesia', 'number': 18, 'name': 'Philip Taylor'},\n",
              " {'country': 'Brazil', 'number': 14, 'name': 'Lilah Shelton'},\n",
              " {'country': 'United Kingdom', 'number': 6, 'name': 'Gillian Harrington'},\n",
              " {'country': 'Mexico', 'number': 6, 'name': 'Odessa Sutton'}]"
            ]
          },
          "metadata": {},
          "execution_count": 93
        }
      ]
    },
    {
      "cell_type": "markdown",
      "source": [
        "## **Recursive functions**\n",
        "\n",
        "**Exercise 1**\n",
        "\n",
        "a\n",
        "\n",
        "Implement this Fibonacci function recursively in Python:"
      ],
      "metadata": {
        "id": "jHtTmuOKhlFY"
      }
    },
    {
      "cell_type": "code",
      "execution_count": null,
      "metadata": {
        "id": "AcGZYYqecixe",
        "colab": {
          "base_uri": "https://localhost:8080/"
        },
        "outputId": "1f8527e9-2ec3-4513-f6e7-711cf32327a0"
      },
      "outputs": [
        {
          "output_type": "stream",
          "name": "stdout",
          "text": [
            "3\n"
          ]
        }
      ],
      "source": [
        "def fibonacci(x):\n",
        "  if x == 1 or x == 2:\n",
        "    return 1\n",
        "  else:\n",
        "    return (fibonacci(x-2) + fibonacci(x-1))\n",
        "result = fibonacci(4)\n",
        "print(result)"
      ]
    },
    {
      "cell_type": "markdown",
      "source": [
        "b\n",
        "\n",
        "Test your function on some higher numbers. What do you notice? What do you think is causing this?"
      ],
      "metadata": {
        "id": "OM0I0o_zr1wI"
      }
    },
    {
      "cell_type": "code",
      "source": [
        "fibonacci(35)"
      ],
      "metadata": {
        "colab": {
          "base_uri": "https://localhost:8080/"
        },
        "id": "kD72WLShrMbd",
        "outputId": "d90a1e8e-f9ba-45aa-a3c3-7d6347032694"
      },
      "execution_count": null,
      "outputs": [
        {
          "output_type": "execute_result",
          "data": {
            "text/plain": [
              "9227465"
            ]
          },
          "metadata": {},
          "execution_count": 38
        }
      ]
    },
    {
      "cell_type": "markdown",
      "source": [
        "**Exercise 2**\n",
        "\n",
        "Write a recursive function that takes a list of integers as input and returns the maximum integer stored in the list. Thinking recursively, the maximum is either the first value in the list or the maximum of the rest of the list, whichever is larger. If the list only has 1 integer, then its maximum is this single value, naturally."
      ],
      "metadata": {
        "id": "vuyWtapy5it5"
      }
    },
    {
      "cell_type": "code",
      "source": [
        "list = []\n",
        "for i in range (5):\n",
        "  integer = int(input(\"input your integer:\"))\n",
        "  list.append(integer)\n",
        "print(list)\n",
        "print(max(list))"
      ],
      "metadata": {
        "colab": {
          "base_uri": "https://localhost:8080/"
        },
        "id": "xra6UvtT6YtB",
        "outputId": "b62bdb79-9716-4441-ff5a-ba338c24d9d2"
      },
      "execution_count": null,
      "outputs": [
        {
          "output_type": "stream",
          "name": "stdout",
          "text": [
            "input your integer:10\n",
            "input your integer:15\n",
            "input your integer:2\n",
            "input your integer:20\n",
            "input your integer:5\n",
            "[10, 15, 2, 20, 5]\n",
            "20\n"
          ]
        }
      ]
    },
    {
      "cell_type": "markdown",
      "source": [
        "**Exercise 3**\n",
        "\n",
        "Write a recursive function letterCount that takes a string and a character as input, and returns how many times the character occurs in the string. For example, it should have the following outputs:\n",
        "\n",
        "letterCount(\"Julian\", 'i') = 1\n",
        "\n",
        "letterCount(\"Ceel\", 'e') = 2\n",
        "\n",
        "letterCount(\"Joris\", 'a') = 0"
      ],
      "metadata": {
        "id": "WQKJxUvZ72QK"
      }
    },
    {
      "cell_type": "code",
      "source": [
        "def letterCount(s,c):\n",
        "  num = 0\n",
        "  for i in range(len(s)):\n",
        "    if s[i] == c :\n",
        "      num = num + 1\n",
        "  return num\n",
        "string = str(input(\"please input your string:\"))\n",
        "c = str(input(\"please input your letter:\"))\n",
        "print(letterCount(string,c))"
      ],
      "metadata": {
        "colab": {
          "base_uri": "https://localhost:8080/"
        },
        "id": "-nJPjKkU5crW",
        "outputId": "2a7cf3f5-dda5-4dfd-ff8e-9a0dcb4a3087"
      },
      "execution_count": null,
      "outputs": [
        {
          "output_type": "stream",
          "name": "stdout",
          "text": [
            "please input your string:augustine\n",
            "please input your letter:u\n",
            "2\n"
          ]
        }
      ]
    },
    {
      "cell_type": "markdown",
      "source": [
        "# **Turing Machines**\n",
        "\n",
        "Go to turingmachine.io and open the 'binary increment' example at the top. Play around with it and try to understand what is happening.\n",
        "\n",
        "**Exercise 1**\n",
        "\n",
        "Make the exercises for the binary increment that are printed below the code on the web page. I will reproduce them here for your convenience:\n",
        "\n",
        "exercises\n",
        "\n",
        "Modify the machine to always halt on the leftmost digit\n",
        "(regardless of the number's length).\n",
        "Hint: add a state between carry and done.\n",
        "\n",
        "Make a machine that adds 2 instead of 1.\n",
        "Hint: 2 is '10' in binary, so the last digit is unaffected.\n",
        "Alternative hint: chain together two copies of the machine from\n",
        "the first exercise (renaming the states of the second copy).\n",
        "\n",
        "Make a machine to subtract 1.\n",
        "  To simplify things, assume the input is always greater than 0.\n",
        "\n",
        "**Exercise 2**\n",
        "\n",
        "Choose an example at the top (different from 'binary increment') that has complementery exercises and do those."
      ],
      "metadata": {
        "id": "FbyAS8JMdwOK"
      }
    },
    {
      "cell_type": "code",
      "source": [
        "# Adds 1 to a binary number.\n",
        "input: '1001'\n",
        "blank: ' '\n",
        "start state: right\n",
        "table:\n",
        "  # scan to the rightmost digit\n",
        "  right:\n",
        "    [1,0]: R\n",
        "    ' '  : {L: carry}\n",
        "  # then carry the 1\n",
        "  carry:\n",
        "    [1] : {write: 0, L}\n",
        "    [0] : {write: 1, L}\n",
        "    ' ' : {R: pause}\n",
        "  pause:\n",
        "    ' ' : {R: done}\n",
        "  done:"
      ],
      "metadata": {
        "id": "QXA2BYk-XlNd"
      },
      "execution_count": null,
      "outputs": []
    },
    {
      "cell_type": "code",
      "source": [
        "# Adds 1 to a binary number.\n",
        "input: '1111'\n",
        "blank: ' '\n",
        "start state: right\n",
        "table:\n",
        "  # scan to the rightmost digit\n",
        "  right:\n",
        "    [1,0]: R\n",
        "    ' '  : {L: carry}\n",
        "  # then carry the 1\n",
        "  carry:\n",
        "    [1,0] : {L: change}\n",
        "  change:\n",
        "    1 : {write: 0, L}\n",
        "    [0,' '] : {write: 1, L: done}\n",
        "  done:"
      ],
      "metadata": {
        "id": "DVNzvMYQIqJw"
      },
      "execution_count": null,
      "outputs": []
    },
    {
      "cell_type": "code",
      "source": [
        "input: '1000'\n",
        "blank: ' '\n",
        "start state: right\n",
        "table:\n",
        "  right:\n",
        "    [1,0]: R\n",
        "    ' '  : {L: carry}\n",
        "  carry:\n",
        "    1 : {write: 0, L: done}\n",
        "    0 : {write: 1, L}\n",
        "  done:"
      ],
      "metadata": {
        "id": "SWotCTy4K3JR"
      },
      "execution_count": null,
      "outputs": []
    }
  ],
  "metadata": {
    "colab": {
      "provenance": [],
      "mount_file_id": "1AQ1xi9Oi2yHvvrIoI908dMzUHfVd5vvf",
      "authorship_tag": "ABX9TyM5Sr3uP9S4ZDfLouJTKEJp",
      "include_colab_link": true
    },
    "kernelspec": {
      "display_name": "Python 3",
      "name": "python3"
    },
    "language_info": {
      "name": "python"
    }
  },
  "nbformat": 4,
  "nbformat_minor": 0
}