{
  "nbformat": 4,
  "nbformat_minor": 0,
  "metadata": {
    "colab": {
      "provenance": [],
      "gpuType": "T4",
      "mount_file_id": "17eFhUkvUQWa-TuT9UWmnb23jpm_2coLK",
      "authorship_tag": "ABX9TyPoxQ7dpMiTo29LFD/tV0AG",
      "include_colab_link": true
    },
    "kernelspec": {
      "name": "python3",
      "display_name": "Python 3"
    },
    "language_info": {
      "name": "python"
    },
    "accelerator": "GPU",
    "gpuClass": "standard"
  },
  "cells": [
    {
      "cell_type": "markdown",
      "metadata": {
        "id": "view-in-github",
        "colab_type": "text"
      },
      "source": [
        "<a href=\"https://colab.research.google.com/github/KexinGao-Augustine/UD_IntroProject_2022/blob/main/Segment_for_concertration.ipynb\" target=\"_parent\"><img src=\"https://colab.research.google.com/assets/colab-badge.svg\" alt=\"Open In Colab\"/></a>"
      ]
    },
    {
      "cell_type": "markdown",
      "source": [
        "##Auto-generating mask"
      ],
      "metadata": {
        "id": "ewWZiYEC0hj2"
      }
    },
    {
      "cell_type": "code",
      "source": [
        "import torch\n",
        "import torchvision\n",
        "print(\"PyTorch version:\", torch.__version__)\n",
        "print(\"Torchvision version:\", torchvision.__version__)\n",
        "print(\"CUDA is available:\", torch.cuda.is_available())\n",
        "import sys\n",
        "sys.path.append(\"..\")\n",
        "!{sys.executable} -m pip install opencv-python matplotlib\n",
        "!{sys.executable} -m pip install 'git+https://github.com/facebookresearch/segment-anything.git'\n",
        "\n",
        "!mkdir images\n",
        "!wget -P images https://raw.githubusercontent.com/facebookresearch/segment-anything/main/notebooks/images/dog.jpg\n",
        "    \n",
        "!wget https://dl.fbaipublicfiles.com/segment_anything/sam_vit_h_4b8939.pth"
      ],
      "metadata": {
        "colab": {
          "base_uri": "https://localhost:8080/"
        },
        "id": "cL8CcJV3mdoG",
        "outputId": "d61b242c-39c7-41cb-c563-eb94a68e0199"
      },
      "execution_count": null,
      "outputs": [
        {
          "output_type": "stream",
          "name": "stdout",
          "text": [
            "PyTorch version: 2.0.0+cu118\n",
            "Torchvision version: 0.15.1+cu118\n",
            "CUDA is available: True\n",
            "Looking in indexes: https://pypi.org/simple, https://us-python.pkg.dev/colab-wheels/public/simple/\n",
            "Requirement already satisfied: opencv-python in /usr/local/lib/python3.10/dist-packages (4.7.0.72)\n",
            "Requirement already satisfied: matplotlib in /usr/local/lib/python3.10/dist-packages (3.7.1)\n",
            "Requirement already satisfied: numpy>=1.19.3 in /usr/local/lib/python3.10/dist-packages (from opencv-python) (1.22.4)\n",
            "Requirement already satisfied: contourpy>=1.0.1 in /usr/local/lib/python3.10/dist-packages (from matplotlib) (1.0.7)\n",
            "Requirement already satisfied: fonttools>=4.22.0 in /usr/local/lib/python3.10/dist-packages (from matplotlib) (4.39.3)\n",
            "Requirement already satisfied: packaging>=20.0 in /usr/local/lib/python3.10/dist-packages (from matplotlib) (23.1)\n",
            "Requirement already satisfied: pillow>=6.2.0 in /usr/local/lib/python3.10/dist-packages (from matplotlib) (8.4.0)\n",
            "Requirement already satisfied: python-dateutil>=2.7 in /usr/local/lib/python3.10/dist-packages (from matplotlib) (2.8.2)\n",
            "Requirement already satisfied: cycler>=0.10 in /usr/local/lib/python3.10/dist-packages (from matplotlib) (0.11.0)\n",
            "Requirement already satisfied: kiwisolver>=1.0.1 in /usr/local/lib/python3.10/dist-packages (from matplotlib) (1.4.4)\n",
            "Requirement already satisfied: pyparsing>=2.3.1 in /usr/local/lib/python3.10/dist-packages (from matplotlib) (3.0.9)\n",
            "Requirement already satisfied: six>=1.5 in /usr/local/lib/python3.10/dist-packages (from python-dateutil>=2.7->matplotlib) (1.16.0)\n",
            "Looking in indexes: https://pypi.org/simple, https://us-python.pkg.dev/colab-wheels/public/simple/\n",
            "Collecting git+https://github.com/facebookresearch/segment-anything.git\n",
            "  Cloning https://github.com/facebookresearch/segment-anything.git to /tmp/pip-req-build-20hwqd2l\n",
            "  Running command git clone --filter=blob:none --quiet https://github.com/facebookresearch/segment-anything.git /tmp/pip-req-build-20hwqd2l\n",
            "  Resolved https://github.com/facebookresearch/segment-anything.git to commit 6fdee8f2727f4506cfbbe553e23b895e27956588\n",
            "  Preparing metadata (setup.py) ... \u001b[?25l\u001b[?25hdone\n",
            "mkdir: cannot create directory ‘images’: File exists\n",
            "--2023-05-05 21:15:44--  https://raw.githubusercontent.com/facebookresearch/segment-anything/main/notebooks/images/dog.jpg\n",
            "Resolving raw.githubusercontent.com (raw.githubusercontent.com)... 185.199.109.133, 185.199.111.133, 185.199.110.133, ...\n",
            "Connecting to raw.githubusercontent.com (raw.githubusercontent.com)|185.199.109.133|:443... connected.\n",
            "HTTP request sent, awaiting response... 200 OK\n",
            "Length: 99846 (98K) [image/jpeg]\n",
            "Saving to: ‘images/dog.jpg.1’\n",
            "\n",
            "dog.jpg.1           100%[===================>]  97.51K  --.-KB/s    in 0.01s   \n",
            "\n",
            "2023-05-05 21:15:44 (6.58 MB/s) - ‘images/dog.jpg.1’ saved [99846/99846]\n",
            "\n",
            "--2023-05-05 21:15:44--  https://dl.fbaipublicfiles.com/segment_anything/sam_vit_h_4b8939.pth\n",
            "Resolving dl.fbaipublicfiles.com (dl.fbaipublicfiles.com)... 13.249.141.40, 13.249.141.9, 13.249.141.13, ...\n",
            "Connecting to dl.fbaipublicfiles.com (dl.fbaipublicfiles.com)|13.249.141.40|:443... connected.\n",
            "HTTP request sent, awaiting response... 200 OK\n",
            "Length: 2564550879 (2.4G) [binary/octet-stream]\n",
            "Saving to: ‘sam_vit_h_4b8939.pth.1’\n",
            "\n",
            "sam_vit_h_4b8939.pt 100%[===================>]   2.39G   226MB/s    in 12s     \n",
            "\n",
            "2023-05-05 21:15:56 (203 MB/s) - ‘sam_vit_h_4b8939.pth.1’ saved [2564550879/2564550879]\n",
            "\n"
          ]
        }
      ]
    },
    {
      "cell_type": "code",
      "source": [
        "!pip install onnxruntime\n",
        "!pip install onnx"
      ],
      "metadata": {
        "colab": {
          "base_uri": "https://localhost:8080/"
        },
        "id": "OT6UZqXzqqwx",
        "outputId": "e9c325ec-d96b-42ac-91c5-0288b806d898"
      },
      "execution_count": null,
      "outputs": [
        {
          "output_type": "stream",
          "name": "stdout",
          "text": [
            "Looking in indexes: https://pypi.org/simple, https://us-python.pkg.dev/colab-wheels/public/simple/\n",
            "Requirement already satisfied: onnxruntime in /usr/local/lib/python3.10/dist-packages (1.14.1)\n",
            "Requirement already satisfied: protobuf in /usr/local/lib/python3.10/dist-packages (from onnxruntime) (3.20.3)\n",
            "Requirement already satisfied: packaging in /usr/local/lib/python3.10/dist-packages (from onnxruntime) (23.1)\n",
            "Requirement already satisfied: numpy>=1.21.6 in /usr/local/lib/python3.10/dist-packages (from onnxruntime) (1.22.4)\n",
            "Requirement already satisfied: flatbuffers in /usr/local/lib/python3.10/dist-packages (from onnxruntime) (23.3.3)\n",
            "Requirement already satisfied: coloredlogs in /usr/local/lib/python3.10/dist-packages (from onnxruntime) (15.0.1)\n",
            "Requirement already satisfied: sympy in /usr/local/lib/python3.10/dist-packages (from onnxruntime) (1.11.1)\n",
            "Requirement already satisfied: humanfriendly>=9.1 in /usr/local/lib/python3.10/dist-packages (from coloredlogs->onnxruntime) (10.0)\n",
            "Requirement already satisfied: mpmath>=0.19 in /usr/local/lib/python3.10/dist-packages (from sympy->onnxruntime) (1.3.0)\n",
            "Looking in indexes: https://pypi.org/simple, https://us-python.pkg.dev/colab-wheels/public/simple/\n",
            "Collecting onnx\n",
            "  Downloading onnx-1.14.0-cp310-cp310-manylinux_2_17_x86_64.manylinux2014_x86_64.whl (14.6 MB)\n",
            "\u001b[2K     \u001b[90m━━━━━━━━━━━━━━━━━━━━━━━━━━━━━━━━━━━━━━━━\u001b[0m \u001b[32m14.6/14.6 MB\u001b[0m \u001b[31m78.8 MB/s\u001b[0m eta \u001b[36m0:00:00\u001b[0m\n",
            "\u001b[?25hRequirement already satisfied: protobuf>=3.20.2 in /usr/local/lib/python3.10/dist-packages (from onnx) (3.20.3)\n",
            "Requirement already satisfied: typing-extensions>=3.6.2.1 in /usr/local/lib/python3.10/dist-packages (from onnx) (4.5.0)\n",
            "Requirement already satisfied: numpy in /usr/local/lib/python3.10/dist-packages (from onnx) (1.22.4)\n",
            "Installing collected packages: onnx\n",
            "Successfully installed onnx-1.14.0\n"
          ]
        }
      ]
    },
    {
      "cell_type": "code",
      "source": [
        "import os\n",
        "import cv2\n",
        "import numpy as np\n",
        "import matplotlib.pyplot as plt\n",
        "\n",
        "import onnxruntime\n",
        "from onnxruntime.quantization import QuantType\n",
        "from onnxruntime.quantization.quantize import quantize_dynamic\n",
        "\n",
        "from segment_anything.utils.onnx import SamOnnxModel\n",
        "from segment_anything import sam_model_registry, SamPredictor, SamAutomaticMaskGenerator\n",
        "sam = sam_model_registry[\"vit_h\"](checkpoint=\"/content/drive/MyDrive/for_masks/sam_vit_h_4b8939.pth\")\n",
        "sam.to(device = \"cuda\")\n",
        "mask_generator = SamAutomaticMaskGenerator(sam)"
      ],
      "metadata": {
        "id": "xqtosOSzn4qW"
      },
      "execution_count": null,
      "outputs": []
    },
    {
      "cell_type": "markdown",
      "source": [
        "##One image"
      ],
      "metadata": {
        "id": "dfwC-C270dpc"
      }
    },
    {
      "cell_type": "code",
      "source": [
        "image = '/content/drive/MyDrive/for_masks/demo/output_229.jpg'\n",
        "img = cv2.imread(image)\n",
        "masks = mask_generator.generate(img) #the generated mask"
      ],
      "metadata": {
        "id": "pFQG0XCw6h4p"
      },
      "execution_count": null,
      "outputs": []
    },
    {
      "cell_type": "code",
      "source": [
        "#masks can be generated for images from the command line\n",
        "!python /content/drive/MyDrive/for_masks/amg.py --checkpoint /content/drive/MyDrive/for_masks/sam_vit_h_4b8939.pth --model-type vit_h --input /content/drive/MyDrive/for_masks/demo/output_229.jpg --output /content/drive/MyDrive/for_masks/demo/output_229_mask.png"
      ],
      "metadata": {
        "colab": {
          "base_uri": "https://localhost:8080/"
        },
        "id": "Oz6F7iyccoD9",
        "outputId": "2212bb62-e133-4738-f8cb-ef4a372fd84d"
      },
      "execution_count": null,
      "outputs": [
        {
          "output_type": "stream",
          "name": "stdout",
          "text": [
            "Loading model...\n",
            "Traceback (most recent call last):\n",
            "  File \"/content/drive/MyDrive/for_masks/amg.py\", line 238, in <module>\n",
            "    main(args)\n",
            "  File \"/content/drive/MyDrive/for_masks/amg.py\", line 198, in main\n",
            "    _ = sam.to(device=args.device)\n",
            "  File \"/usr/local/lib/python3.10/dist-packages/torch/nn/modules/module.py\", line 1145, in to\n",
            "    return self._apply(convert)\n",
            "  File \"/usr/local/lib/python3.10/dist-packages/torch/nn/modules/module.py\", line 797, in _apply\n",
            "    module._apply(fn)\n",
            "  File \"/usr/local/lib/python3.10/dist-packages/torch/nn/modules/module.py\", line 797, in _apply\n",
            "    module._apply(fn)\n",
            "  File \"/usr/local/lib/python3.10/dist-packages/torch/nn/modules/module.py\", line 797, in _apply\n",
            "    module._apply(fn)\n",
            "  [Previous line repeated 2 more times]\n",
            "  File \"/usr/local/lib/python3.10/dist-packages/torch/nn/modules/module.py\", line 820, in _apply\n",
            "    param_applied = fn(param)\n",
            "  File \"/usr/local/lib/python3.10/dist-packages/torch/nn/modules/module.py\", line 1143, in convert\n",
            "    return t.to(device, dtype if t.is_floating_point() or t.is_complex() else None, non_blocking)\n",
            "torch.cuda.OutOfMemoryError: CUDA out of memory. Tried to allocate 20.00 MiB (GPU 0; 14.75 GiB total capacity; 543.33 MiB already allocated; 16.81 MiB free; 566.00 MiB reserved in total by PyTorch) If reserved memory is >> allocated memory try setting max_split_size_mb to avoid fragmentation.  See documentation for Memory Management and PYTORCH_CUDA_ALLOC_CONF\n"
          ]
        }
      ]
    },
    {
      "cell_type": "code",
      "source": [
        "#Export the model with onnx format\n",
        "#it's a mistake to use this command for we don't need onnx format, yet it didn't run successfully\n",
        "#forget this and focus on the above one\n",
        "!python /content/drive/MyDrive/for_masks/export_onnx_model.py --checkpoint /content/drive/MyDrive/for_masks/sam_vit_h_4b8939.pth --model-type vit_h --output /content/drive/MyDrive/for_masks/save/01.png"
      ],
      "metadata": {
        "colab": {
          "base_uri": "https://localhost:8080/"
        },
        "id": "raT1ZB2UIL6G",
        "outputId": "418e8cf2-165a-4c81-bfc7-b93ff07ba8bc"
      },
      "execution_count": null,
      "outputs": [
        {
          "output_type": "stream",
          "name": "stdout",
          "text": [
            "Loading model...\n",
            "Exporting onnx model to /content/drive/MyDrive/for_masks/save/01.png...\n",
            "============= Diagnostic Run torch.onnx.export version 2.0.0+cu118 =============\n",
            "verbose: False, log level: Level.ERROR\n",
            "======================= 0 NONE 0 NOTE 0 WARNING 0 ERROR ========================\n",
            "\n",
            "Traceback (most recent call last):\n",
            "  File \"/usr/local/lib/python3.10/dist-packages/torch/onnx/_internal/onnx_proto_utils.py\", line 219, in _add_onnxscript_fn\n",
            "    import onnx\n",
            "ModuleNotFoundError: No module named 'onnx'\n",
            "\n",
            "The above exception was the direct cause of the following exception:\n",
            "\n",
            "Traceback (most recent call last):\n",
            "  File \"/content/drive/MyDrive/for_masks/export_onnx_model.py\", line 176, in <module>\n",
            "    run_export(\n",
            "  File \"/content/drive/MyDrive/for_masks/export_onnx_model.py\", line 148, in run_export\n",
            "    torch.onnx.export(\n",
            "  File \"/usr/local/lib/python3.10/dist-packages/torch/onnx/utils.py\", line 506, in export\n",
            "    _export(\n",
            "  File \"/usr/local/lib/python3.10/dist-packages/torch/onnx/utils.py\", line 1620, in _export\n",
            "    proto = onnx_proto_utils._add_onnxscript_fn(\n",
            "  File \"/usr/local/lib/python3.10/dist-packages/torch/onnx/_internal/onnx_proto_utils.py\", line 221, in _add_onnxscript_fn\n",
            "    raise errors.OnnxExporterError(\"Module onnx is not installed!\") from e\n",
            "torch.onnx.errors.OnnxExporterError: Module onnx is not installed!\n"
          ]
        }
      ]
    },
    {
      "cell_type": "markdown",
      "source": [
        "##Bach processing"
      ],
      "metadata": {
        "id": "yi4Ea9DWctR4"
      }
    },
    {
      "cell_type": "code",
      "source": [
        "folder = \"/content/drive/MyDrive/for_masks/demo\" #change the path\n",
        "image_list = os.listdir(folder)\n",
        "images = []\n",
        "for image in image_list:\n",
        "  images.append(os.path.join(folder, image))\n",
        "images"
      ],
      "metadata": {
        "colab": {
          "base_uri": "https://localhost:8080/"
        },
        "id": "dcZHcyawReoT",
        "outputId": "f918e012-39c8-493c-a79a-5fa8e7f5107a"
      },
      "execution_count": null,
      "outputs": [
        {
          "output_type": "execute_result",
          "data": {
            "text/plain": [
              "['/content/drive/MyDrive/for_masks/demo/output_230.jpg',\n",
              " '/content/drive/MyDrive/for_masks/demo/output_231.jpg',\n",
              " '/content/drive/MyDrive/for_masks/demo/output_229.jpg']"
            ]
          },
          "metadata": {},
          "execution_count": 5
        }
      ]
    },
    {
      "cell_type": "code",
      "source": [
        "for i in images:\n",
        "  img = cv2.imread(i)\n",
        "  mask_path = os.path.join(\"/content/drive/MyDrive/for_masks/save\", f\"{os.path.splitext(i)[0]}_mask.onnx\")\n",
        "  print(i)\n",
        "  print(mask_path)\n",
        "  masks = mask_generator.generate(img)\n",
        "  !python /content/drive/MyDrive/for_masks/export_onnx_model.py --checkpoint /content/drive/MyDrive/for_masks/sam_vit_h_4b8939.pth --model-type vit_h --output $mask_path"
      ],
      "metadata": {
        "colab": {
          "base_uri": "https://localhost:8080/"
        },
        "id": "AF1yntSFdHWp",
        "outputId": "970a581b-ca79-4141-e86d-97b410791bab"
      },
      "execution_count": null,
      "outputs": [
        {
          "output_type": "stream",
          "name": "stdout",
          "text": [
            "/content/drive/MyDrive/for_masks/demo/output_230.jpg\n",
            "/content/drive/MyDrive/for_masks/demo/output_230_mask.onnx\n",
            "Loading model...\n",
            "Exporting onnx model to /content/drive/MyDrive/for_masks/demo/output_230_mask.onnx...\n",
            "============= Diagnostic Run torch.onnx.export version 2.0.0+cu118 =============\n",
            "verbose: False, log level: Level.ERROR\n",
            "======================= 0 NONE 0 NOTE 0 WARNING 0 ERROR ========================\n",
            "\n",
            "Traceback (most recent call last):\n",
            "  File \"/usr/local/lib/python3.10/dist-packages/torch/onnx/_internal/onnx_proto_utils.py\", line 219, in _add_onnxscript_fn\n",
            "    import onnx\n",
            "ModuleNotFoundError: No module named 'onnx'\n",
            "\n",
            "The above exception was the direct cause of the following exception:\n",
            "\n",
            "Traceback (most recent call last):\n",
            "  File \"/content/drive/MyDrive/for_masks/export_onnx_model.py\", line 176, in <module>\n",
            "    run_export(\n",
            "  File \"/content/drive/MyDrive/for_masks/export_onnx_model.py\", line 148, in run_export\n",
            "    torch.onnx.export(\n",
            "  File \"/usr/local/lib/python3.10/dist-packages/torch/onnx/utils.py\", line 506, in export\n",
            "    _export(\n",
            "  File \"/usr/local/lib/python3.10/dist-packages/torch/onnx/utils.py\", line 1620, in _export\n",
            "    proto = onnx_proto_utils._add_onnxscript_fn(\n",
            "  File \"/usr/local/lib/python3.10/dist-packages/torch/onnx/_internal/onnx_proto_utils.py\", line 221, in _add_onnxscript_fn\n",
            "    raise errors.OnnxExporterError(\"Module onnx is not installed!\") from e\n",
            "torch.onnx.errors.OnnxExporterError: Module onnx is not installed!\n",
            "/content/drive/MyDrive/for_masks/demo/output_231.jpg\n",
            "/content/drive/MyDrive/for_masks/demo/output_231_mask.onnx\n",
            "Loading model...\n",
            "Exporting onnx model to /content/drive/MyDrive/for_masks/demo/output_231_mask.onnx...\n",
            "============= Diagnostic Run torch.onnx.export version 2.0.0+cu118 =============\n",
            "verbose: False, log level: Level.ERROR\n",
            "======================= 0 NONE 0 NOTE 0 WARNING 0 ERROR ========================\n",
            "\n",
            "Traceback (most recent call last):\n",
            "  File \"/usr/local/lib/python3.10/dist-packages/torch/onnx/_internal/onnx_proto_utils.py\", line 219, in _add_onnxscript_fn\n",
            "    import onnx\n",
            "ModuleNotFoundError: No module named 'onnx'\n",
            "\n",
            "The above exception was the direct cause of the following exception:\n",
            "\n",
            "Traceback (most recent call last):\n",
            "  File \"/content/drive/MyDrive/for_masks/export_onnx_model.py\", line 176, in <module>\n",
            "    run_export(\n",
            "  File \"/content/drive/MyDrive/for_masks/export_onnx_model.py\", line 148, in run_export\n",
            "    torch.onnx.export(\n",
            "  File \"/usr/local/lib/python3.10/dist-packages/torch/onnx/utils.py\", line 506, in export\n",
            "    _export(\n",
            "  File \"/usr/local/lib/python3.10/dist-packages/torch/onnx/utils.py\", line 1620, in _export\n",
            "    proto = onnx_proto_utils._add_onnxscript_fn(\n",
            "  File \"/usr/local/lib/python3.10/dist-packages/torch/onnx/_internal/onnx_proto_utils.py\", line 221, in _add_onnxscript_fn\n",
            "    raise errors.OnnxExporterError(\"Module onnx is not installed!\") from e\n",
            "torch.onnx.errors.OnnxExporterError: Module onnx is not installed!\n",
            "/content/drive/MyDrive/for_masks/demo/output_229.jpg\n",
            "/content/drive/MyDrive/for_masks/demo/output_229_mask.onnx\n",
            "Loading model...\n",
            "Exporting onnx model to /content/drive/MyDrive/for_masks/demo/output_229_mask.onnx...\n",
            "============= Diagnostic Run torch.onnx.export version 2.0.0+cu118 =============\n",
            "verbose: False, log level: Level.ERROR\n",
            "======================= 0 NONE 0 NOTE 0 WARNING 0 ERROR ========================\n",
            "\n",
            "Traceback (most recent call last):\n",
            "  File \"/usr/local/lib/python3.10/dist-packages/torch/onnx/_internal/onnx_proto_utils.py\", line 219, in _add_onnxscript_fn\n",
            "    import onnx\n",
            "ModuleNotFoundError: No module named 'onnx'\n",
            "\n",
            "The above exception was the direct cause of the following exception:\n",
            "\n",
            "Traceback (most recent call last):\n",
            "  File \"/content/drive/MyDrive/for_masks/export_onnx_model.py\", line 176, in <module>\n",
            "    run_export(\n",
            "  File \"/content/drive/MyDrive/for_masks/export_onnx_model.py\", line 148, in run_export\n",
            "    torch.onnx.export(\n",
            "  File \"/usr/local/lib/python3.10/dist-packages/torch/onnx/utils.py\", line 506, in export\n",
            "    _export(\n",
            "  File \"/usr/local/lib/python3.10/dist-packages/torch/onnx/utils.py\", line 1620, in _export\n",
            "    proto = onnx_proto_utils._add_onnxscript_fn(\n",
            "  File \"/usr/local/lib/python3.10/dist-packages/torch/onnx/_internal/onnx_proto_utils.py\", line 221, in _add_onnxscript_fn\n",
            "    raise errors.OnnxExporterError(\"Module onnx is not installed!\") from e\n",
            "torch.onnx.errors.OnnxExporterError: Module onnx is not installed!\n"
          ]
        }
      ]
    }
  ]
}